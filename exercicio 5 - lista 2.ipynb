{
 "cells": [
  {
   "cell_type": "code",
   "execution_count": 2,
   "metadata": {},
   "outputs": [
    {
     "ename": "SyntaxError",
     "evalue": "invalid syntax (<ipython-input-2-abba098741ef>, line 38)",
     "output_type": "error",
     "traceback": [
      "\u001b[1;36m  File \u001b[1;32m\"<ipython-input-2-abba098741ef>\"\u001b[1;36m, line \u001b[1;32m38\u001b[0m\n\u001b[1;33m    for iteration in range(n_iterations)\u001b[0m\n\u001b[1;37m                                        ^\u001b[0m\n\u001b[1;31mSyntaxError\u001b[0m\u001b[1;31m:\u001b[0m invalid syntax\n"
     ]
    }
   ],
   "source": [
    "import matplotlib\n",
    "import numpy as np\n",
    "import matplotlib.cm as cm\n",
    "import matplotlib.pyplot as plt\n",
    "\n",
    "# Define a quantidade de features\n",
    "M = 1000\n",
    "\n",
    "x1 = np.random.randn(M,1)\n",
    "x2 = np.random.randn(M,1)\n",
    "w = np.random.randn(M,1)\n",
    "\n",
    "x1,x2,w = np.meshgrid(x1,x2,w)\n",
    "y = 2*x1 + 2*x2 + w\n",
    "\n",
    "fig, ax = plt.subplots()\n",
    "CS = ax.contour(x1, x2, w, y)\n",
    "ax.clabel(CS, inline=1, fontsize=10)\n",
    "ax.set_title('Simplest default with labels')\n",
    "\n",
    "# Add x0 = 1 to each instance.\n",
    "X_b = np.c_[np.ones((M, 1)), X]\n",
    "\n",
    "# Number of iterations.\n",
    "n_iterations = 1000\n",
    "\n",
    "# Number of mini - batch\n",
    "M_batch = 50\n",
    "\n",
    "# Constant learning rate.\n",
    "alpha = 0.1\n",
    "\n",
    "# Random initialization of parameters.\n",
    "a = np.random.randn(2,1)\n",
    "\n",
    "# Mini - batch gradient descendent loop\n",
    "\n",
    "for iteration in range(n_iterations)\n",
    "for i in range(M_batch)\n",
    "\n",
    "gradients = -2/M * X_b.T.dot(y - X_b.dot(a))\n",
    "a = a - alpha * gradients"
   ]
  },
  {
   "cell_type": "code",
   "execution_count": null,
   "metadata": {},
   "outputs": [],
   "source": []
  }
 ],
 "metadata": {
  "kernelspec": {
   "display_name": "Python 3",
   "language": "python",
   "name": "python3"
  },
  "language_info": {
   "codemirror_mode": {
    "name": "ipython",
    "version": 3
   },
   "file_extension": ".py",
   "mimetype": "text/x-python",
   "name": "python",
   "nbconvert_exporter": "python",
   "pygments_lexer": "ipython3",
   "version": "3.7.4"
  }
 },
 "nbformat": 4,
 "nbformat_minor": 2
}
