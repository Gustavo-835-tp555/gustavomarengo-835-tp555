{
 "cells": [
  {
   "cell_type": "code",
   "execution_count": 1,
   "metadata": {},
   "outputs": [],
   "source": [
    "# Declarando as bibliotecas necessárias.\n",
    "import numpy as np\n",
    "from sklearn.cluster import KMeans\n",
    "from sklearn.metrics.pairwise import pairwise_distances_argmin\n",
    "from sklearn.datasets import make_blobs\n",
    "import matplotlib.pyplot as plt \n",
    "from sklearn.metrics import silhouette_samples, silhouette_score\n",
    "from scipy.special import erfc\n",
    "import math  \n"
   ]
  },
  {
   "cell_type": "code",
   "execution_count": 2,
   "metadata": {},
   "outputs": [],
   "source": [
    "# Gerando os símbolos.\n",
    "\n",
    "def mod(V):\n",
    "    ip = np.zeros((len(V),1),dtype=complex)\n",
    "    inc = 0\n",
    "    for v in V:\n",
    "        if(v==0):\n",
    "            ip[inc] = -1.0 - 1j*1.0\n",
    "        elif(v==1):\n",
    "            ip[inc] = -1.0 + 1j*1.0\n",
    "        elif(v==2):\n",
    "            ip[inc] = 1.0 - 1j*1.0\n",
    "        else:\n",
    "            ip[inc] = 1.0 + 1j*1.0\n",
    "        inc += 1\n",
    "    # Normalizando a energia para unitária.\n",
    "    s = (1/np.sqrt(2))*ip;\n",
    "    return s\n",
    "\n",
    "def demod(c):\n",
    "    c_seq = mod(np.array([0,1,2,3]))\n",
    "    c_seq = c_seq[:,0]\n",
    "    e = []\n",
    "    for i in range(0,len(c_seq)):\n",
    "        e.append(np.abs(c_seq[i] - c)**2)\n",
    "    return e.index(np.min(e))"
   ]
  },
  {
   "cell_type": "code",
   "execution_count": 5,
   "metadata": {},
   "outputs": [
    {
     "ename": "IndentationError",
     "evalue": "unexpected indent (<ipython-input-5-4a4a0a002421>, line 24)",
     "output_type": "error",
     "traceback": [
      "\u001b[1;36m  File \u001b[1;32m\"<ipython-input-5-4a4a0a002421>\"\u001b[1;36m, line \u001b[1;32m24\u001b[0m\n\u001b[1;33m    xAux = np.random.rand(N, 1)\u001b[0m\n\u001b[1;37m    ^\u001b[0m\n\u001b[1;31mIndentationError\u001b[0m\u001b[1;31m:\u001b[0m unexpected indent\n"
     ]
    }
   ],
   "source": [
    "# Especificando a quantidade N de símbolos BPSK\n",
    "N = 1000000\n",
    "\n",
    "# Criando o vetor E0/N0\n",
    "\n",
    "EsN0dB = np.arange(-2,22,2)\n",
    "\n",
    "ser_simu = np.zeros(len(EsN0dB))\n",
    "ser_theo = np.zeros(len(EsN0dB))\n",
    "\n",
    "n_clusters=2\n",
    "km_re = KMeans(n_clusters=n_clusters)\n",
    "\n",
    "km_im = KMeans(n_clusters=n_clusters)\n",
    "\n",
    "ber_theo = ber_simu = np.zeros(len(EsN0dB))\n",
    "for idx in range(0,len(EsN0dB)):    \n",
    "\n",
    "    EsN0Lin = 10.0**(-(EsN0dB[idx]/10.0))\n",
    "    \n",
    "# Gerando N QPSK simbolos.\n",
    "x = (2.0 * (np.random.rand(N, 1) >= 0.5) - 1.0) + 1j*(2.0 * (np.random.rand(N, 1) >=0.5) - 1.0)\n",
    "    \n",
    "    xAux = np.random.rand(N, 1)\n",
    "    x_demod = np.random.rand(N, 1)\n",
    "    \n",
    " # Normalizando a energia 1.\n",
    "    s = (1/np.sqrt(2))*x;\n",
    "\n",
    "    \n",
    "    # Generando ruido de variancia unitária.\n",
    "    noise = np.sqrt(1.0/2.0)*(np.random.randn(N, 1) + 1j*np.random.randn(N, 1))\n",
    "\n",
    "    \n",
    "    # Passando o símbolo pelo canal AWGN.\n",
    "    y = s + np.sqrt(EsN0Lin)*noise\n",
    "    \n",
    "    # Extraindo a parte real.\n",
    "    km_re.fit(y.real)\n",
    "    \n",
    "    # Extraindo a parte imaginaria.\n",
    "    km_im.fit(y.imag)\n",
    "    \n",
    "    # Predição da parte real.\n",
    "    detected_x_re = km_re.labels_\n",
    "    detected_x_re = detected_x_re.reshape(len(x), 1)\n",
    "    \n",
    "    # Predição da parte imaginária.\n",
    "    detected_x_im = km_im.labels_\n",
    "    detected_x_im = detected_x_im.reshape(len(x), 1)\n",
    "    \n",
    "    for j in range(len(detected_x_re)):\n",
    "        \n",
    "        if(x[j].real == -1 and x[j].imag == -1):\n",
    "            xAux[j] = 0\n",
    "        elif(x[j].real == -1 and x[j].imag == 1):\n",
    "            xAux[j] = 1\n",
    "        elif(x[j].real == 1 and x[j].imag == -1):\n",
    "            xAux[j] = 2\n",
    "        else:\n",
    "            xAux[j] = 3\n",
    "        pred = km_re.cluster_centers_[detected_x_re[j],0] + 1j*km_im.cluster_centers_[detected_x_im[j],0]\n",
    "        print(pred)\n",
    "        x_demod[j] = demod(pred)\n",
    "    \n",
    "    \n",
    "    # Simulando QPSK BER.\n",
    "    error_ = (xAux != x_demod)\n",
    "    \n",
    "    error = 0;\n",
    "    for i in range(0, N):\n",
    "        if(error_[i]==True):\n",
    "            error = error + 1\n",
    "                \n",
    "  \n",
    "    ser_simu[idx] = 1.0 * error / N\n",
    "    ser_theo[idx] = erfc( np.sqrt( 0.5*(10.0**(EsN0dB[idx]/10.0)) ) ) - (1/4)*(erfc(np.sqrt(0.5*(10.0**(EsN0dB[idx]/10.0)))))**2.0\n",
    "    \n",
    "\n",
    "for i in range(0,len(ser_simu)): print('Es/N0:%d \\t- SER: %e' % (EsN0dB[i], ser_simu[i]))"
   ]
  },
  {
   "cell_type": "code",
   "execution_count": 6,
   "metadata": {},
   "outputs": [
    {
     "name": "stderr",
     "output_type": "stream",
     "text": [
      "C:\\Users\\LCM\\Anaconda3\\lib\\site-packages\\ipykernel_launcher.py:5: UserWarning: Data has no positive values, and therefore cannot be log-scaled.\n",
      "  \"\"\"\n"
     ]
    },
    {
     "data": {
      "image/png": "[encoded data removed]",
      "text/plain": [
       "<Figure size 504x504 with 1 Axes>"
      ]
     },
     "metadata": {
      "needs_background": "light"
     },
     "output_type": "display_data"
    }
   ],
   "source": [
    "fig = plt.figure(figsize=(7,7))\n",
    "plt.plot(EsN0dB, ser_theo, label='theoretical')\n",
    "plt.plot(EsN0dB, ser_simu, 'ro', label='simulated')\n",
    "plt.xscale('linear')\n",
    "plt.yscale('log')\n",
    "plt.xlabel('Es/N0 [dB]')\n",
    "plt.ylabel('SER')\n",
    "plt.grid(True)\n",
    "plt.title('QPSK detection')\n",
    "plt.legend()\n",
    "plt.show()"
   ]
  },
  {
   "cell_type": "code",
   "execution_count": null,
   "metadata": {},
   "outputs": [],
   "source": []
  }
 ],
 "metadata": {
  "kernelspec": {
   "display_name": "Python 3",
   "language": "python",
   "name": "python3"
  },
  "language_info": {
   "codemirror_mode": {
    "name": "ipython",
    "version": 3
   },
   "file_extension": ".py",
   "mimetype": "text/x-python",
   "name": "python",
   "nbconvert_exporter": "python",
   "pygments_lexer": "ipython3",
   "version": "3.7.4"
  }
 },
 "nbformat": 4,
 "nbformat_minor": 2
}
