{
 "cells": [
  {
   "cell_type": "code",
   "execution_count": 1,
   "metadata": {},
   "outputs": [
    {
     "data": {
      "image/png": "[encoded data removed]",
      "text/plain": [
       "<Figure size 432x288 with 1 Axes>"
      ]
     },
     "metadata": {
      "needs_background": "light"
     },
     "output_type": "display_data"
    }
   ],
   "source": [
    "import matplotlib\n",
    "import numpy as np\n",
    "import matplotlib.pyplot as plt\n",
    "\n",
    "%matplotlib inline\n",
    "\n",
    "m = 1000\n",
    "\n",
    "x = np.random.uniform(0,1,m)\n",
    "y = np.random.uniform(0,1,m)\n",
    "\n",
    "z = x + y\n",
    "\n",
    "# histograma (pdf)\n",
    "plt.subplot(1, 2, 1)\n",
    "plt.title('Histograma exemplo 4')\n",
    "plt.hist(z , bins=100, density =True , color='b')\n",
    "\n",
    "#fig, ax = plt.subplots()\n",
    "\n",
    "\n",
    "# add a 'best fit' line\n",
    "\n",
    "# Tweak spacing to prevent clipping of ylabel\n",
    "#fig.tight_layout()\n",
    "plt.show()"
   ]
  },
  {
   "cell_type": "code",
   "execution_count": null,
   "metadata": {},
   "outputs": [],
   "source": []
  }
 ],
 "metadata": {
  "kernelspec": {
   "display_name": "Python 3",
   "language": "python",
   "name": "python3"
  },
  "language_info": {
   "codemirror_mode": {
    "name": "ipython",
    "version": 3
   },
   "file_extension": ".py",
   "mimetype": "text/x-python",
   "name": "python",
   "nbconvert_exporter": "python",
   "pygments_lexer": "ipython3",
   "version": "3.7.4"
  }
 },
 "nbformat": 4,
 "nbformat_minor": 2
}
