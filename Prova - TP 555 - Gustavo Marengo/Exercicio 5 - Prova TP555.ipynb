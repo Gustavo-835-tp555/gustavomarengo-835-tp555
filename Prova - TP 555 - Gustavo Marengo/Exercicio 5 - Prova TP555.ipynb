{
 "cells": [
  {
   "cell_type": "markdown",
   "metadata": {},
   "source": [
    "Decision Trees - ID3\n",
    "\n",
    "atributos: possui casa própria, estado civil e experiência de trabalho.\n",
    "classes: pagou e não pagou.\n",
    "\n",
    "Primeiramente foi calculado a entropia global do problema:\n",
    "\n",
    "H(goal) = -[(p/(p+n))log2((p/(p+n))+(n/(p+n))log2((p/(p+n))] , onde p= classes positivas, n = classes negativas\n",
    "\n",
    "Vimos que p = 12 e n = 5, calculamos a entropia global,\n",
    "\n",
    "H(global) = 0,874\n",
    "\n",
    "Logo em seguida, foi necessário encontrar o nó raiz da árvore através do calculo do ganho de informação de cada atributo.\n",
    "\n",
    "Os cálculos estão anexados junto a questão , onde resolvi na folha do caderno.\n",
    "\n",
    "Após os cálculos foi descoberto que o nó raiz é o atributo experiência de trabalho.\n",
    "\n",
    "Logo em seguida foi calculado o segundo nó, tomando como base o atributo experiência de trabalho.\n",
    "\n",
    "Em anexo segue os cálculos realizados e a árvore de decisão final."
   ]
  },
  {
   "cell_type": "code",
   "execution_count": null,
   "metadata": {},
   "outputs": [],
   "source": []
  }
 ],
 "metadata": {
  "kernelspec": {
   "display_name": "Python 3",
   "language": "python",
   "name": "python3"
  },
  "language_info": {
   "codemirror_mode": {
    "name": "ipython",
    "version": 3
   },
   "file_extension": ".py",
   "mimetype": "text/x-python",
   "name": "python",
   "nbconvert_exporter": "python",
   "pygments_lexer": "ipython3",
   "version": "3.7.4"
  }
 },
 "nbformat": 4,
 "nbformat_minor": 2
}
