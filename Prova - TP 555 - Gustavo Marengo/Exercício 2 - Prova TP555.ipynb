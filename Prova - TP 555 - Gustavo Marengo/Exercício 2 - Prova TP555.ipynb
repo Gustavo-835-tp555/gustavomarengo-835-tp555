{
 "cells": [
  {
   "cell_type": "markdown",
   "metadata": {},
   "source": [
    "Problema de classificação bayesiano \n",
    "\n",
    "atributos: idade <= 30, renda = média, estudante = sim, classificação de crédito = boa.\n",
    "classes: comprar o PC e não comprar o PC ( total de 2 classes). C0 = classe comprar o PC , C1 = classe não comprar o PC\n",
    "\n",
    "Como os atributos são variáveis categóricas e estatisticamente independentes, utilizaremos um classificador naive Bayes para determinar as probabilidades das classes, assim:\n",
    "P(Cq\\x = [x1,x2,...xk]) = P(x1\\Cq)* P(x2\\Cq)* ... P(xk\\Cq)* P(Cq)/(P(x1)* P(x2)* ... * P(xk))\n",
    " \n",
    " Analisando a tabela do exercício podemos tirar as seguintes probabilidades:\n",
    " \n",
    " P(idade <= 30) = 5/14                       P(idade <= 30\\C0) = 2/9\n",
    " P(renda = média) = 6/14                     P(renda = média\\C0) = 4/9\n",
    " P(estudante = sim) = 7/14                   P(estudante = sim\\C0) = 6/9\n",
    " P(classificação de crédito = boa) = 8/14    P(classificação de crédito = boa\\C0) = 6/9\n",
    " \n",
    " P(comprar o PC) = P(C0) = 9/14\n",
    " \n",
    " Utilizando o Teorema de Bayes teremos\n",
    " \n",
    " P(C0\\idade <= 30, renda = média, estudante = sim, classificação de crédito = boa) = P(idade <= 30\\C0)* P(renda = média\\C0)* P(estudante = sim\\C0)* P(classificação de crédito = boa\\C0)* P(C0)/(P(idade <= 30)* P(renda = média)* P(estudante = sim)* P(classificação de crédito = boa)) = ((2/9)* (4/9)* (6/9)* (6/9)* (9/14))/((5/14)* (6/14)* (7/14)* (8/14)) = 0,64527 ou 64,527%\n",
    " \n",
    " Probabilidade de comprar o PC dadas as condições dos atributos é de 64,527%\n",
    " \n",
    " Probabilidade de não comprar o PC dadas as condições dos atributos é de 35,47% = 1 - 0,64527\n",
    " \n",
    " Resposta: A pessoa com as especificações do enunciado teria maior chance de comprar o PC.\n",
    " \n",
    " \n"
   ]
  },
  {
   "cell_type": "code",
   "execution_count": null,
   "metadata": {},
   "outputs": [],
   "source": []
  }
 ],
 "metadata": {
  "kernelspec": {
   "display_name": "Python 3",
   "language": "python",
   "name": "python3"
  },
  "language_info": {
   "codemirror_mode": {
    "name": "ipython",
    "version": 3
   },
   "file_extension": ".py",
   "mimetype": "text/x-python",
   "name": "python",
   "nbconvert_exporter": "python",
   "pygments_lexer": "ipython3",
   "version": "3.7.4"
  }
 },
 "nbformat": 4,
 "nbformat_minor": 2
}
