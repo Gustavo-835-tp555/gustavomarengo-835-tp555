{
 "cells": [
  {
   "cell_type": "markdown",
   "metadata": {},
   "source": [
    "É necessário apenas um neuronio na camada de saída de uma rede neural, indicando a probabilidade de o e-mail ser spam ou não. A função logistica na camada de saída para estimar a probabilidade.Para se classificar a base de dados quanto ao critério MNIST necessitará de 10 neuronios na camada de saída e deve se substituir a função logistica de ativação pela função softmax que pode manipular múltiplas classes."
   ]
  }
 ],
 "metadata": {
  "kernelspec": {
   "display_name": "Python 3",
   "language": "python",
   "name": "python3"
  },
  "language_info": {
   "codemirror_mode": {
    "name": "ipython",
    "version": 3
   },
   "file_extension": ".py",
   "mimetype": "text/x-python",
   "name": "python",
   "nbconvert_exporter": "python",
   "pygments_lexer": "ipython3",
   "version": "3.7.4"
  }
 },
 "nbformat": 4,
 "nbformat_minor": 2
}
