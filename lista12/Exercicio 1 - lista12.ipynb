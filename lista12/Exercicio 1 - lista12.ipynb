{
 "cells": [
  {
   "cell_type": "markdown",
   "metadata": {},
   "source": [
    "Devido as características das redes MLP fizeram com que a utilização da função degrau como função de ativação não fosse suficiente, pelo fato de a mesma possuir derivada igual a zero em todos os pontos, exceto no ponto onde ela possui uma indeterminação. Devido a esse motivo foi necessário encontrar um meio de suavizar a função degrau, gerando assim a função logística cuja a sua derivada é diferente de zero para todos os seus pontos e não há ponto de indeterminação. "
   ]
  },
  {
   "cell_type": "code",
   "execution_count": null,
   "metadata": {},
   "outputs": [],
   "source": []
  }
 ],
 "metadata": {
  "kernelspec": {
   "display_name": "Python 3",
   "language": "python",
   "name": "python3"
  },
  "language_info": {
   "codemirror_mode": {
    "name": "ipython",
    "version": 3
   },
   "file_extension": ".py",
   "mimetype": "text/x-python",
   "name": "python",
   "nbconvert_exporter": "python",
   "pygments_lexer": "ipython3",
   "version": "3.7.4"
  }
 },
 "nbformat": 4,
 "nbformat_minor": 2
}
