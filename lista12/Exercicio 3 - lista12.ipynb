{
 "cells": [
  {
   "cell_type": "markdown",
   "metadata": {},
   "source": [
    "A matriz X terá m X 10 posições.\n",
    "A forma do vetor de peso da camada oculta Wh é 10x50\n",
    "A forma do peso do vetor de saída é 50x3\n",
    "A forma da matriz de saída é mx3\n",
    "\n",
    "Y = ReLU(ReLU(X.Wh+bh).Wo+ bo"
   ]
  },
  {
   "cell_type": "code",
   "execution_count": null,
   "metadata": {},
   "outputs": [],
   "source": []
  }
 ],
 "metadata": {
  "kernelspec": {
   "display_name": "Python 3",
   "language": "python",
   "name": "python3"
  },
  "language_info": {
   "codemirror_mode": {
    "name": "ipython",
    "version": 3
   },
   "file_extension": ".py",
   "mimetype": "text/x-python",
   "name": "python",
   "nbconvert_exporter": "python",
   "pygments_lexer": "ipython3",
   "version": "3.7.4"
  }
 },
 "nbformat": 4,
 "nbformat_minor": 2
}
